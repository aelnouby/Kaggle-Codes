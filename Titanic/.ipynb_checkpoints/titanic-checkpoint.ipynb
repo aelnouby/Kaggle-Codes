{
 "cells": [
  {
   "cell_type": "code",
   "execution_count": null,
   "metadata": {
    "collapsed": false
   },
   "outputs": [],
   "source": [
    "#imports\n",
    "import pandas as pd \n",
    "import numpy as np\n",
    "import matplotlib.pyplot as plt\n",
    "import seaborn as sns\n",
    "\n",
    "# machine learning\n",
    "from sklearn.linear_model import LogisticRegression\n",
    "from sklearn.svm import SVC, LinearSVC\n",
    "from sklearn.ensemble import RandomForestClassifier\n",
    "from sklearn.neighbors import KNeighborsClassifier\n",
    "from sklearn.naive_bayes import GaussianNB"
   ]
  },
  {
   "cell_type": "code",
   "execution_count": null,
   "metadata": {
    "collapsed": false
   },
   "outputs": [],
   "source": [
    "train_df=pd.read_csv('train.csv',header=0)\n",
    "test_df=pd.read_csv('test.csv',header=0)\n",
    "train_df.head()"
   ]
  },
  {
   "cell_type": "code",
   "execution_count": null,
   "metadata": {
    "collapsed": false
   },
   "outputs": [],
   "source": [
    "train_df=train_df.drop(['PassengerId','Name','Ticket'],axis=1)\n",
    "test_df=test_df.drop(['Name','Ticket'],axis=1)\n"
   ]
  },
  {
   "cell_type": "code",
   "execution_count": null,
   "metadata": {
    "collapsed": false
   },
   "outputs": [],
   "source": [
    "#Embarked\n",
    "train_df.Embarked.map({'S':0,'C':1,'Q':3})\n",
    "sns.countplot(x='Embarked',data=train_df)\n",
    "plt.show()\n",
    "#fill nulls with S\n",
    "train_df['Embarked']=train_df.Embarked.fillna('S')\n",
    "#convert Characters with dummies\n",
    "embarked_dummies=pd.get_dummies(train_df.Embarked)\n",
    "train_df=train_df.join(embarked_dummies)\n",
    "#drop the emarked column\n",
    "train_df.drop('Embarked',inplace=True,axis=1)\n",
    "embarked_dummies_test=pd.get_dummies(test_df.Embarked)\n",
    "test_df=test_df.join(embarked_dummies_test)\n",
    "test_df.drop('Embarked',inplace=True,axis=1)\n"
   ]
  },
  {
   "cell_type": "code",
   "execution_count": null,
   "metadata": {
    "collapsed": false
   },
   "outputs": [],
   "source": [
    "#fare\n",
    "test_df.Fare.fillna(test_df.Fare.median(),inplace=True)\n",
    "\n",
    "\n"
   ]
  },
  {
   "cell_type": "code",
   "execution_count": null,
   "metadata": {
    "collapsed": false
   },
   "outputs": [],
   "source": [
    "#sex\n",
    "def get_person(passenger):\n",
    "    age,sex=passenger\n",
    "    return 'Child' if age<16 else sex\n",
    "train_df['Person']=train_df[['Age','Sex']].apply(get_person,axis=1)\n",
    "test_df['Person']=test_df[['Age','Sex']].apply(get_person,axis=1)\n",
    "sex_dummies_train=pd.get_dummies(train_df.Person)\n",
    "sex_dummies_train.columns=['Male','Female','Child']\n",
    "\n",
    "sex_dummies_test=pd.get_dummies(test_df.Person)\n",
    "sex_dummies_test.columns=['Male','Female','Child']\n",
    "\n",
    "train_df.drop(['Sex','Person'],axis=1,inplace=True)\n",
    "test_df.drop(['Sex','Person'],axis=1,inplace=True)\n",
    "\n",
    "train_df=train_df.join(sex_dummies_train)\n",
    "test_df=test_df.join(sex_dummies_test)\n",
    "\n",
    "train_df.drop(['Male'],axis=1,inplace=True)\n",
    "test_df.drop(['Male'],axis=1,inplace=True)\n",
    "\n",
    "\n",
    "\n",
    "\n"
   ]
  },
  {
   "cell_type": "code",
   "execution_count": null,
   "metadata": {
    "collapsed": false
   },
   "outputs": [],
   "source": [
    "#Age\n",
    "train_age_mean=train_df.Age.mean()\n",
    "train_age_std=train_df.Age.std()\n",
    "train_age_count=train_df.Age.isnull().sum()\n",
    "\n",
    "test_age_mean=test_df.Age.mean()\n",
    "test_age_std=test_df.Age.std()\n",
    "test_age_count=test_df.Age.isnull().sum()\n",
    "\n",
    "rand_1=np.random.randint(train_age_mean-train_age_std,train_age_mean+train_age_std,size=train_age_count)\n",
    "rand_2=np.random.randint(test_age_mean-test_age_std,test_age_mean+test_age_std,size=test_age_count)\n",
    "\n",
    "train_df[\"Age\"][np.isnan(train_df[\"Age\"])] = rand_1\n",
    "test_df[\"Age\"][np.isnan(test_df[\"Age\"])] = rand_2\n",
    "\n",
    "test_df.Age[train_df.Age.isnull()]"
   ]
  },
  {
   "cell_type": "code",
   "execution_count": null,
   "metadata": {
    "collapsed": false
   },
   "outputs": [],
   "source": [
    "#cabin\n",
    "train_df.drop('Cabin',inplace=True,axis=1)\n",
    "test_df.drop('Cabin',inplace=True,axis=1)"
   ]
  },
  {
   "cell_type": "code",
   "execution_count": null,
   "metadata": {
    "collapsed": false
   },
   "outputs": [],
   "source": [
    "#Family\n",
    "train_df['Family']=train_df.Parch+train_df.SibSp\n",
    "test_df['Family']=test_df.Parch+test_df.SibSp\n",
    "\n",
    "train_df.Family.loc[train_df.Family>0]=1\n",
    "train_df.Family.loc[train_df.Family==0]=0\n",
    "\n",
    "test_df.Family.loc[test_df.Family>0]=1\n",
    "test_df.Family.loc[test_df.Family==0]=0\n",
    "\n",
    "train_df.drop(['SibSp','Parch'],axis=1,inplace=True)\n",
    "test_df.drop(['SibSp','Parch'],axis=1,inplace=True)\n"
   ]
  },
  {
   "cell_type": "code",
   "execution_count": null,
   "metadata": {
    "collapsed": false
   },
   "outputs": [],
   "source": [
    "#Pclass\n",
    "pclass_dummies_train=pd.get_dummies(train_df.Pclass)\n",
    "pclass_dummies_train.columns=['Class1','Class2','Class3']\n",
    "pclass_dummies_test=pd.get_dummies(test_df.Pclass)\n",
    "pclass_dummies_test.columns=['Class1','Class2','Class3']\n",
    "\n",
    "train_df.drop(['Pclass'],axis=1,inplace=True)\n",
    "test_df.drop(['Pclass'],axis=1,inplace=True)\n",
    "\n",
    "train_df=train_df.join(pclass_dummies_train)\n",
    "test_df=test_df.join(pclass_dummies_test)\n"
   ]
  },
  {
   "cell_type": "code",
   "execution_count": null,
   "metadata": {
    "collapsed": true
   },
   "outputs": [],
   "source": [
    "X_train=train_df.drop('Survived',axis=1)\n",
    "Y_train=train_df.Survived\n",
    "X_test=test_df.drop('PassengerId',axis=1)"
   ]
  },
  {
   "cell_type": "code",
   "execution_count": null,
   "metadata": {
    "collapsed": false
   },
   "outputs": [],
   "source": [
    "#randon Forests\n",
    "random_forest = RandomForestClassifier(n_estimators=100)\n",
    "random_forest.fit(X_train, Y_train)\n",
    "Y_pred = random_forest.predict(X_test)\n",
    "random_forest.score(X_train, Y_train)\n"
   ]
  },
  {
   "cell_type": "code",
   "execution_count": null,
   "metadata": {
    "collapsed": true
   },
   "outputs": [],
   "source": [
    "submission=pd.DataFrame({\"PassengerId\":test_df.PassengerId,\"Survived\":Y_pred})\n",
    "\n",
    "submission.to_csv('titanic.csv',index=False)"
   ]
  }
 ],
 "metadata": {
  "kernelspec": {
   "display_name": "Python 3",
   "language": "python",
   "name": "python3"
  },
  "language_info": {
   "codemirror_mode": {
    "name": "ipython",
    "version": 3
   },
   "file_extension": ".py",
   "mimetype": "text/x-python",
   "name": "python",
   "nbconvert_exporter": "python",
   "pygments_lexer": "ipython3",
   "version": "3.5.0"
  }
 },
 "nbformat": 4,
 "nbformat_minor": 0
}
